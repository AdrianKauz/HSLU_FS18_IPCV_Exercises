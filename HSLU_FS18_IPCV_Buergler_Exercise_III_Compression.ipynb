{
 "cells": [
  {
   "cell_type": "markdown",
   "metadata": {},
   "source": [
    "# HSLU FS18 - IPCV: Bürgler Exercise III - Compression\n",
    "##### Student: Adrian Kauz\n",
    "***"
   ]
  },
  {
   "cell_type": "markdown",
   "metadata": {},
   "source": [
    "## Imports"
   ]
  },
  {
   "cell_type": "code",
   "execution_count": 1,
   "metadata": {},
   "outputs": [],
   "source": [
    "import numpy as np\n",
    "import cv2\n",
    "from matplotlib import pyplot as plt"
   ]
  },
  {
   "cell_type": "markdown",
   "metadata": {},
   "source": [
    "# Aufgabe 1\n",
    "A: Zeige dass die Inverse der Matrix $C$ gleich der transponierten Matrix $C$ ist.  \n",
    "\\begin{equation*}\n",
    "C^{-1} = C^T\n",
    "\\end{equation*}"
   ]
  },
  {
   "cell_type": "code",
   "execution_count": 2,
   "metadata": {},
   "outputs": [],
   "source": [
    "N = 1000\n",
    "C = np.zeros(shape = (N, N))\n",
    "\n",
    "for i in range(N):\n",
    "    for j in range(N):\n",
    "        C[i][j] = np.cos((2 * j + 1) * i * np.pi / (2 * N))\n",
    "\n",
    "C[0,:] = C[0,:] * np.sqrt(1 / N)\n",
    "C[1:,:] = C[1:,:] * np.sqrt(2 / N)\n",
    "        \n",
    "#print(C)"
   ]
  },
  {
   "cell_type": "code",
   "execution_count": 3,
   "metadata": {},
   "outputs": [
    {
     "data": {
      "text/plain": [
       "2.8738296464769775e-14"
      ]
     },
     "execution_count": 3,
     "metadata": {},
     "output_type": "execute_result"
    }
   ],
   "source": [
    "# Wenn beide Matrixen identisch sind, so sollte eine Substraction von der Einten mit der Anderen 0 ergeben.\n",
    "# Da wir hier es hier mit Fliesskommazahlen zu tun haben und Rundungsfehler nicht verhindert werden können,\n",
    "# bekommen wir ein Resultat nahe Null.\n",
    "np.max(abs(np.linalg.inv(C) - C.T))"
   ]
  },
  {
   "cell_type": "markdown",
   "metadata": {},
   "source": [
    "B: Zeige nun dass gilt:  \n",
    "\\begin{equation*}\n",
    "CC^{T} = C^{T}C = 1\n",
    "\\end{equation*}"
   ]
  },
  {
   "cell_type": "code",
   "execution_count": 4,
   "metadata": {},
   "outputs": [
    {
     "data": {
      "text/plain": [
       "1.000000000000032"
      ]
     },
     "execution_count": 4,
     "metadata": {},
     "output_type": "execute_result"
    }
   ],
   "source": [
    "np.max(abs(C @ C.T))"
   ]
  },
  {
   "cell_type": "code",
   "execution_count": 5,
   "metadata": {},
   "outputs": [
    {
     "data": {
      "text/plain": [
       "1.0000000000000369"
      ]
     },
     "execution_count": 5,
     "metadata": {},
     "output_type": "execute_result"
    }
   ],
   "source": [
    "np.max(abs(C.T @ C))"
   ]
  },
  {
   "cell_type": "markdown",
   "metadata": {},
   "source": [
    "<hr>"
   ]
  },
  {
   "cell_type": "markdown",
   "metadata": {},
   "source": [
    " # Aufgabe 2\n",
    "Wenn Sie die Aufgabe 1 verstanden haben, können Sie sofort sagen, wie man den Vektor $x$ aus dem Vektor $y$\n",
    "berechnet! Wie sieht die entsprechende Gleichung in möglichst einfacher Form aus? (Matrixform!)."
   ]
  },
  {
   "cell_type": "markdown",
   "metadata": {},
   "source": [
    "Wenn...\n",
    "\\begin{equation*}\n",
    "\\vec{y} = C * \\vec{x}\n",
    "\\end{equation*}  \n",
    "dann...\n",
    "\\begin{equation*}\n",
    "\\vec{x} = C^{-1} * \\vec{y}\n",
    "\\end{equation*}  \n",
    "oder...\n",
    "\\begin{equation*}\n",
    "\\vec{x} = C^{T} * \\vec{y}\n",
    "\\end{equation*}  \n",
    "<hr>"
   ]
  },
  {
   "cell_type": "markdown",
   "metadata": {},
   "source": [
    " # Aufgabe 3\n",
    "**3.1** Erzeugen Sie ein Graustufenbild mit 8x8 Pixel, in welches Sie einen Kreis mit einem Radius $R$ von 2 Pixel\n",
    "zeichnen. Dabei soll nur die Randlinie des Kreises schwarz sein, der Rest des Bildes weiss. Erzeugen Sie\n",
    "ein Bild der Matrix (mit matrixplot(..) )."
   ]
  },
  {
   "cell_type": "code",
   "execution_count": 6,
   "metadata": {},
   "outputs": [
    {
     "data": {
      "text/plain": [
       "<matplotlib.image.AxesImage at 0x10b7f5d0>"
      ]
     },
     "execution_count": 6,
     "metadata": {},
     "output_type": "execute_result"
    },
    {
     "data": {
      "image/png": "[encoded data removed]",
      "text/plain": [
       "<Figure size 432x288 with 1 Axes>"
      ]
     },
     "metadata": {},
     "output_type": "display_data"
    }
   ],
   "source": [
    "image = np.matrix([[255, 255, 255, 255, 255, 255, 255, 255],\n",
    "                   [255, 255, 255,   0,   0, 255, 255, 255],\n",
    "                   [255, 255,   0, 255, 255,   0, 255, 255],\n",
    "                   [255,   0, 255, 255, 255, 255,   0, 255],\n",
    "                   [255,   0, 255, 255, 255, 255,   0, 255],\n",
    "                   [255, 255,   0, 255, 255,   0, 255, 255],\n",
    "                   [255, 255, 255,   0,   0, 255, 255, 255],\n",
    "                   [255, 255, 255, 255, 255, 255, 255, 255]])\n",
    "\n",
    "plt.imshow(image, cmap=\"gray\")"
   ]
  },
  {
   "cell_type": "markdown",
   "metadata": {},
   "source": [
    "**3.2** Führen Sie die Kosinus Transformation durch und komprimieren Sie das Bild, indem Sie nur 90, 70, 50 oder\n",
    "30 Prozent aller Koeffizienten berücksichtigen."
   ]
  },
  {
   "cell_type": "code",
   "execution_count": 7,
   "metadata": {},
   "outputs": [
    {
     "name": "stdout",
     "output_type": "stream",
     "text": [
      "[[ 1.65750000e+03  5.68434189e-14  1.66586778e+02  1.13686838e-13\n",
      "   1.27500000e+02  4.83169060e-13  6.90025028e+01 -2.55795385e-13]\n",
      " [ 1.30631693e-13 -3.15544362e-30 -2.85108361e-14  0.00000000e+00\n",
      "   5.02429587e-14  3.94430453e-29 -4.25730116e-14 -2.68212708e-29]\n",
      " [ 1.66586778e+02 -8.19172766e-16  1.42968344e+02  7.80802457e-14\n",
      "  -3.04591784e+02  2.36853836e-14 -9.01561146e+01 -4.85262182e-14]\n",
      " [ 1.00485917e-13  6.31088724e-30  8.19603650e-14  3.15544362e-29\n",
      "  -8.03887339e-14  3.31321580e-29 -1.21960601e-14 -2.20881053e-29]\n",
      " [ 1.27500000e+02  4.29056217e-14 -3.04591784e+02 -9.70810222e-14\n",
      "   1.27500000e+02  3.47374363e-14  0.00000000e+00  0.00000000e+00]\n",
      " [ 5.02429587e-13  5.04870979e-29  3.39490948e-14  3.78653235e-29\n",
      "   4.01943669e-14  0.00000000e+00  0.00000000e+00  0.00000000e+00]\n",
      " [ 6.90025028e+01 -3.67558959e-14 -9.01561146e+01 -2.14354649e-14\n",
      "   0.00000000e+00  0.00000000e+00  0.00000000e+00  0.00000000e+00]\n",
      " [-2.11020426e-13 -1.26217745e-29 -3.30160371e-14 -1.89326617e-29\n",
      "   0.00000000e+00  0.00000000e+00  0.00000000e+00  0.00000000e+00]]\n"
     ]
    }
   ],
   "source": [
    "# Generiere zuerst DCT-Matrix\n",
    "N = 8\n",
    "C = np.zeros(shape = (N, N))\n",
    "\n",
    "for i in range(N):\n",
    "    for j in range(N):\n",
    "        C[i][j] = np.cos((2 * j + 1) * i * np.pi / (2 * N))\n",
    "\n",
    "C[0,:] = C[0,:] * np.sqrt(1 / N)\n",
    "C[1:,:] = C[1:,:] * np.sqrt(2 / N)\n",
    "\n",
    "# Generiere DCT-Image (Aus den Slides)\n",
    "dct_image = np.dot(np.dot(C, image), C.T)\n",
    "\n",
    "# Komprimiere\n",
    "ratio = 0.5\n",
    "size = N * N\n",
    "\n",
    "compressed_dct_image = dct_image.copy()\n",
    "\n",
    "# Starte mit 0 setzen rechts unten. So werden zuerst die hohen Frequenzen eliminiert\n",
    "for x in range(N):\n",
    "    for y in range(N):\n",
    "        if (size * ratio) < ((x + 1) * (y + 1)):\n",
    "            compressed_dct_image[x, y] = 0\n",
    "\n",
    "print(compressed_dct_image)"
   ]
  },
  {
   "cell_type": "markdown",
   "metadata": {},
   "source": [
    "**3.3** Führen Sie die Kosinus Transformation durch und komprimieren Sie das Bild, indem Sie nur 90, 70, 50 oder\n",
    "30 Prozent aller Koeffizienten berücksichtigen."
   ]
  },
  {
   "cell_type": "code",
   "execution_count": 8,
   "metadata": {},
   "outputs": [
    {
     "data": {
      "image/png": "[encoded data removed]",
      "text/plain": [
       "<Figure size 600x400 with 2 Axes>"
      ]
     },
     "metadata": {},
     "output_type": "display_data"
    }
   ],
   "source": [
    "# Rekonstruiere Image aus obiger erhaltener komprimierter DCT-Matrix\n",
    "decoded_image = np.dot(np.dot(C.T, compressed_dct_image), C)\n",
    "\n",
    "plt.rcParams['figure.dpi']= 100\n",
    "plt.subplot(1, 2, 1), plt.imshow(image), plt.set_cmap('gray'), plt.title('Original'), plt.xticks([]), plt.yticks([])\n",
    "plt.subplot(1, 2, 2), plt.imshow(decoded_image), plt.set_cmap('gray'), plt.title(str(ratio * 100) + '%'), plt.xticks([]), plt.yticks([])\n",
    "plt.show()"
   ]
  },
  {
   "cell_type": "markdown",
   "metadata": {},
   "source": [
    "Wenn man die Augen zusammenkneift kann man den Kreis bei starker Kompression wieder sehen.\n",
    "***"
   ]
  },
  {
   "cell_type": "markdown",
   "metadata": {},
   "source": [
    "# Aufgabe 4"
   ]
  },
  {
   "cell_type": "markdown",
   "metadata": {},
   "source": [
    "**4.1** Erzeugen Sie ein frei gewähltes Bild als Graustufen-Matrix der Grösse 16x16.  \n",
    "**4.2** Führen Sie die Kosinus Transformation durch, und unterdrücken Sie einige der hohen Frequenzen.  \n",
    "**4.3** Führen Sie die Rücktransformation durch. Zeichnen Sie die so entstehenden Bilder mit matrixplot(..)"
   ]
  },
  {
   "cell_type": "code",
   "execution_count": 9,
   "metadata": {},
   "outputs": [
    {
     "data": {
      "text/plain": [
       "<matplotlib.image.AxesImage at 0x103a7530>"
      ]
     },
     "execution_count": 9,
     "metadata": {},
     "output_type": "execute_result"
    },
    {
     "data": {
      "image/png": "[encoded data removed]",
      "text/plain": [
       "<Figure size 600x400 with 1 Axes>"
      ]
     },
     "metadata": {},
     "output_type": "display_data"
    }
   ],
   "source": [
    "image2 = np.matrix([[255, 255, 255, 255, 255, 255, 255,   0,   0, 255, 255, 255, 255, 255, 255, 255,],\n",
    "                    [255, 255,   0, 255, 255, 255,   0, 192, 192,   0, 255, 255, 255,   0, 255, 255,],\n",
    "                    [255,   0, 192,   0, 255,   0, 192, 192, 192, 192,   0, 255,   0, 128,   0, 255,],\n",
    "                    [255,   0, 192, 192,   0, 192, 192, 192, 192, 192, 192,   0, 192, 192,   0, 255,],\n",
    "                    [  0, 192, 192, 192, 192, 192, 192, 192, 192, 192, 192, 192, 192, 192, 128,   0,],\n",
    "                    [  0, 192, 192, 192,   0,   0, 192, 192, 192,   0,   0, 192, 192, 192, 128,   0,],\n",
    "                    [  0, 192, 192,   0, 192, 192,   0, 192,   0, 192, 192,   0, 192, 192, 128,   0,],\n",
    "                    [  0, 192, 192, 192, 192, 192, 192, 192, 192, 192, 192, 192, 192, 128, 128,   0,],\n",
    "                    [255,   0, 192, 192, 192, 192, 192, 192, 192, 192, 192, 192, 192, 128,   0, 255,],\n",
    "                    [255, 255,   0, 128, 192, 192, 192, 192, 192, 192, 128, 128, 128,   0, 255, 255,],\n",
    "                    [255, 255, 255,   0,   0, 128, 128, 128, 128, 128, 128,   0,   0, 255, 255, 255,],\n",
    "                    [255, 255, 255, 255, 255,   0,   0,   0,   0,   0,   0, 255, 255, 255, 255, 255,],\n",
    "                    [255, 255,   0,   0,   0, 255,   0, 192, 128,   0,   0,   0,   0, 255, 255, 255,],\n",
    "                    [255,   0, 192, 192, 128,   0,   0, 192,   0,   0, 192, 192, 128,   0, 255, 255,],\n",
    "                    [  0, 128, 128, 128, 128, 128,   0, 192,   0, 128, 128, 128, 128, 128,   0, 255,],\n",
    "                    [  0,   0,   0,   0,   0,   0,   0,   0,   0,   0,   0,   0,   0,   0,   0, 255,]])\n",
    "\n",
    "plt.imshow(image2, cmap=\"gray\")"
   ]
  },
  {
   "cell_type": "code",
   "execution_count": 10,
   "metadata": {},
   "outputs": [
    {
     "data": {
      "image/png": "[encoded data removed]",
      "text/plain": [
       "<Figure size 600x400 with 2 Axes>"
      ]
     },
     "metadata": {},
     "output_type": "display_data"
    }
   ],
   "source": [
    "# Generiere zuerst DCT-Matrix\n",
    "N = 16\n",
    "C = np.zeros(shape = (N, N))\n",
    "\n",
    "for i in range(N):\n",
    "    for j in range(N):\n",
    "        C[i][j] = np.cos((2 * j + 1) * i * np.pi / (2 * N))\n",
    "\n",
    "C[0,:] = C[0,:] * np.sqrt(1 / N)\n",
    "C[1:,:] = C[1:,:] * np.sqrt(2 / N)\n",
    "\n",
    "# Generiere DCT-Image (Aus den Slides)\n",
    "dct_image = np.dot(np.dot(C, image2), C.T)\n",
    "\n",
    "# Komprimiere\n",
    "ratio = 0.45\n",
    "size = N * N\n",
    "\n",
    "compressed_dct_image2 = dct_image.copy()\n",
    "\n",
    "# Starte mit 0 setzen rechts unten. So werden zuerst die hohen Frequenzen eliminiert\n",
    "for x in range(N):\n",
    "    for y in range(N):\n",
    "        if (size * ratio) < ((x + 1) * (y + 1)):\n",
    "            compressed_dct_image2[x, y] = 0\n",
    "\n",
    "# Rekonstruiere Image aus obiger erhaltener komprimierter DCT-Matrix\n",
    "decoded_image2 = np.dot(np.dot(C.T, compressed_dct_image2), C)\n",
    "\n",
    "plt.rcParams['figure.dpi']= 100\n",
    "plt.subplot(1, 2, 1), plt.imshow(image2), plt.set_cmap('gray'), plt.title('Original'), plt.xticks([]), plt.yticks([])\n",
    "plt.subplot(1, 2, 2), plt.imshow(decoded_image2), plt.set_cmap('gray'), plt.title(str(ratio * 100) + '%'), plt.xticks([]), plt.yticks([])\n",
    "plt.show()"
   ]
  },
  {
   "cell_type": "code",
   "execution_count": null,
   "metadata": {},
   "outputs": [],
   "source": []
  }
 ],
 "metadata": {
  "kernelspec": {
   "display_name": "Python 3",
   "language": "python",
   "name": "python3"
  },
  "language_info": {
   "codemirror_mode": {
    "name": "ipython",
    "version": 3
   },
   "file_extension": ".py",
   "mimetype": "text/x-python",
   "name": "python",
   "nbconvert_exporter": "python",
   "pygments_lexer": "ipython3",
   "version": "3.7.0"
  }
 },
 "nbformat": 4,
 "nbformat_minor": 2
}
